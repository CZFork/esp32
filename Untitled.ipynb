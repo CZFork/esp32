{
 "cells": [
  {
   "cell_type": "code",
   "execution_count": 19,
   "metadata": {},
   "outputs": [],
   "source": [
    "from WunderWeather import weather\n",
    "from Adafruit_IO import *"
   ]
  },
  {
   "cell_type": "code",
   "execution_count": 22,
   "metadata": {},
   "outputs": [],
   "source": [
    "def get_temp_street():\n",
    "    extractor = weather.Extract(\"0acd2cbb929b017c\")\n",
    "    [location,current] = extractor.features(\"RU/Tyumen\",(('geolookup',''),('now','')))\n",
    "    temp = current.temp_c\n",
    "    aio = Client('e9666ef66a0149679734021420f5680b')\n",
    "    aio.send('temp_on_street', temp)"
   ]
  },
  {
   "cell_type": "code",
   "execution_count": 1,
   "metadata": {},
   "outputs": [],
   "source": [
    "t_temp = 17\n",
    "y_temp = t_temp + 3\n",
    "g_temp = y_temp + 5"
   ]
  },
  {
   "cell_type": "code",
   "execution_count": 2,
   "metadata": {},
   "outputs": [],
   "source": [
    "y_diff = 3"
   ]
  },
  {
   "cell_type": "code",
   "execution_count": 3,
   "metadata": {},
   "outputs": [],
   "source": [
    "import random"
   ]
  },
  {
   "cell_type": "code",
   "execution_count": 86,
   "metadata": {},
   "outputs": [
    {
     "name": "stdout",
     "output_type": "stream",
     "text": [
      "temp 23\n",
      "r 102 g 255 y 0\n"
     ]
    }
   ],
   "source": [
    "t_temp = 17\n",
    "y_temp = t_temp + 3\n",
    "g_temp = y_temp + 5\n",
    "if n_temp <= t_temp:\n",
    "    r = 255\n",
    "    g = 0\n",
    "    y = 0\n",
    "    print('temp', n_temp)\n",
    "    print(\"r\", r, 'g', g, 'y', y)\n",
    "elif n_temp > t_temp and n_temp <= y_temp:\n",
    "    diff = n_temp - t_temp\n",
    "    r = 255\n",
    "    g = int(diff * 85)\n",
    "    y = 0\n",
    "    print('temp', n_temp)\n",
    "    print(\"r\", r, 'g', g, 'y', y)\n",
    "elif n_temp > y_temp and n_temp < g_temp:\n",
    "    diff = n_temp - y_temp\n",
    "    r = 255 - diff * 51\n",
    "    g = 255\n",
    "    y = 0\n",
    "    print('temp', n_temp)\n",
    "    print(\"r\", r, 'g', g, 'y', y)\n",
    "else:\n",
    "    r = 0\n",
    "    g = 255\n",
    "    y = 0\n",
    "    print('temp', n_temp)\n",
    "    print(\"r\", r, 'g', g, 'y', y)"
   ]
  },
  {
   "cell_type": "code",
   "execution_count": null,
   "metadata": {},
   "outputs": [],
   "source": []
  },
  {
   "cell_type": "code",
   "execution_count": null,
   "metadata": {},
   "outputs": [],
   "source": []
  },
  {
   "cell_type": "code",
   "execution_count": 1,
   "metadata": {},
   "outputs": [],
   "source": [
    "from WunderWeather import weather\n",
    "import time"
   ]
  },
  {
   "cell_type": "code",
   "execution_count": 2,
   "metadata": {},
   "outputs": [],
   "source": [
    "extractor = weather.Extract(\"0acd2cbb929b017c\")\n",
    "[location,current] = extractor.features(\"RU/Tyumen\",(('geolookup',''),('now','')))"
   ]
  },
  {
   "cell_type": "code",
   "execution_count": 14,
   "metadata": {},
   "outputs": [
    {
     "data": {
      "text/plain": [
       "{'UV': '0.0',\n",
       " 'dewpoint_c': -14,\n",
       " 'dewpoint_f': 6,\n",
       " 'dewpoint_string': '6 F (-14 C)',\n",
       " 'display_location': {'city': 'Tyumen',\n",
       "  'country': 'RS',\n",
       "  'country_iso3166': 'RU',\n",
       "  'elevation': '78.9',\n",
       "  'full': 'Tyumen, Russia',\n",
       "  'latitude': '57.13999939',\n",
       "  'longitude': '65.55000305',\n",
       "  'magic': '124',\n",
       "  'state': '',\n",
       "  'state_name': 'Russia',\n",
       "  'wmo': '28367',\n",
       "  'zip': '00000'},\n",
       " 'estimated': {},\n",
       " 'feelslike_c': '-12',\n",
       " 'feelslike_f': '11',\n",
       " 'feelslike_string': '11 F (-12 C)',\n",
       " 'forecast_url': 'http://www.wunderground.com/global/stations/28367.html',\n",
       " 'heat_index_c': 'NA',\n",
       " 'heat_index_f': 'NA',\n",
       " 'heat_index_string': 'NA',\n",
       " 'history_url': 'http://www.wunderground.com/weatherstation/WXDailyHistory.asp?ID=I1189',\n",
       " 'icon': 'snow',\n",
       " 'icon_url': 'http://icons.wxug.com/i/c/k/snow.gif',\n",
       " 'image': {'link': 'http://www.wunderground.com',\n",
       "  'title': 'Weather Underground',\n",
       "  'url': 'http://icons.wxug.com/graphics/wu2/logo_130x80.png'},\n",
       " 'local_epoch': '1521806387',\n",
       " 'local_time_rfc822': 'Fri, 23 Mar 2018 16:59:47 +0500',\n",
       " 'local_tz_long': 'Asia/Yekaterinburg',\n",
       " 'local_tz_offset': '+0500',\n",
       " 'local_tz_short': '+05',\n",
       " 'nowcast': '',\n",
       " 'ob_url': 'http://www.wunderground.com/cgi-bin/findweather/getForecast?query=57.150635,65.563576',\n",
       " 'observation_epoch': '1521806376',\n",
       " 'observation_location': {'city': 'M.Gorkogo 68, Тюмень',\n",
       "  'country': 'RU',\n",
       "  'country_iso3166': 'RU',\n",
       "  'elevation': '262 ft',\n",
       "  'full': 'M.Gorkogo 68, Тюмень, Тюменская область',\n",
       "  'latitude': '57.150635',\n",
       "  'longitude': '65.563576',\n",
       "  'state': 'Тюменская область'},\n",
       " 'observation_time': 'Last Updated on March 23, 4:59 PM +05',\n",
       " 'observation_time_rfc822': 'Fri, 23 Mar 2018 16:59:36 +0500',\n",
       " 'precip_1hr_in': '0.00',\n",
       " 'precip_1hr_metric': ' 0',\n",
       " 'precip_1hr_string': '0.00 in ( 0 mm)',\n",
       " 'precip_today_in': '0.00',\n",
       " 'precip_today_metric': '0',\n",
       " 'precip_today_string': '0.00 in (0 mm)',\n",
       " 'pressure_in': '29.47',\n",
       " 'pressure_mb': '998',\n",
       " 'pressure_trend': '0',\n",
       " 'relative_humidity': '56%',\n",
       " 'solarradiation': '--',\n",
       " 'station_id': 'I1189',\n",
       " 'temp_c': -7.2,\n",
       " 'temp_f': 19.0,\n",
       " 'temperature_string': '19.0 F (-7.2 C)',\n",
       " 'visibility_km': '2.1',\n",
       " 'visibility_mi': '1.3',\n",
       " 'weather': 'Snow',\n",
       " 'wind_degrees': 292,\n",
       " 'wind_dir': 'WNW',\n",
       " 'wind_gust_kph': '9.7',\n",
       " 'wind_gust_mph': '6.0',\n",
       " 'wind_kph': 9.7,\n",
       " 'wind_mph': 6.0,\n",
       " 'wind_string': 'From the WNW at 6.0 MPH Gusting to 6.0 MPH',\n",
       " 'windchill_c': '-12',\n",
       " 'windchill_f': '11',\n",
       " 'windchill_string': '11 F (-12 C)'}"
      ]
     },
     "execution_count": 14,
     "metadata": {},
     "output_type": "execute_result"
    }
   ],
   "source": [
    "current.data"
   ]
  },
  {
   "cell_type": "code",
   "execution_count": 13,
   "metadata": {},
   "outputs": [],
   "source": []
  },
  {
   "cell_type": "code",
   "execution_count": null,
   "metadata": {},
   "outputs": [],
   "source": []
  }
 ],
 "metadata": {
  "kernelspec": {
   "display_name": "Python 3",
   "language": "python",
   "name": "python3"
  },
  "language_info": {
   "codemirror_mode": {
    "name": "ipython",
    "version": 3
   },
   "file_extension": ".py",
   "mimetype": "text/x-python",
   "name": "python",
   "nbconvert_exporter": "python",
   "pygments_lexer": "ipython3",
   "version": "3.6.4"
  }
 },
 "nbformat": 4,
 "nbformat_minor": 2
}
