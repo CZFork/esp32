{
 "cells": [
  {
   "cell_type": "code",
   "execution_count": 19,
   "metadata": {},
   "outputs": [],
   "source": [
    "from WunderWeather import weather\n",
    "from Adafruit_IO import *"
   ]
  },
  {
   "cell_type": "code",
   "execution_count": 22,
   "metadata": {},
   "outputs": [],
   "source": [
    "def get_temp_street():\n",
    "    extractor = weather.Extract(\"0acd2cbb929b017c\")\n",
    "    [location,current] = extractor.features(\"RU/Tyumen\",(('geolookup',''),('now','')))\n",
    "    temp = current.temp_c\n",
    "    aio = Client('e9666ef66a0149679734021420f5680b')\n",
    "    aio.send('temp_on_street', temp)"
   ]
  },
  {
   "cell_type": "code",
   "execution_count": 1,
   "metadata": {},
   "outputs": [],
   "source": [
    "t_temp = 17\n",
    "y_temp = t_temp + 3\n",
    "g_temp = y_temp + 5"
   ]
  },
  {
   "cell_type": "code",
   "execution_count": 2,
   "metadata": {},
   "outputs": [],
   "source": [
    "y_diff = 3"
   ]
  },
  {
   "cell_type": "code",
   "execution_count": 3,
   "metadata": {},
   "outputs": [],
   "source": [
    "import random"
   ]
  },
  {
   "cell_type": "code",
   "execution_count": 86,
   "metadata": {},
   "outputs": [
    {
     "name": "stdout",
     "output_type": "stream",
     "text": [
      "temp 23\n",
      "r 102 g 255 y 0\n"
     ]
    }
   ],
   "source": [
    "t_temp = 17\n",
    "y_temp = t_temp + 3\n",
    "g_temp = y_temp + 5\n",
    "if n_temp <= t_temp:\n",
    "    r = 255\n",
    "    g = 0\n",
    "    y = 0\n",
    "    print('temp', n_temp)\n",
    "    print(\"r\", r, 'g', g, 'y', y)\n",
    "elif n_temp > t_temp and n_temp <= y_temp:\n",
    "    diff = n_temp - t_temp\n",
    "    r = 255\n",
    "    g = int(diff * 85)\n",
    "    y = 0\n",
    "    print('temp', n_temp)\n",
    "    print(\"r\", r, 'g', g, 'y', y)\n",
    "elif n_temp > y_temp and n_temp < g_temp:\n",
    "    diff = n_temp - y_temp\n",
    "    r = 255 - diff * 51\n",
    "    g = 255\n",
    "    y = 0\n",
    "    print('temp', n_temp)\n",
    "    print(\"r\", r, 'g', g, 'y', y)\n",
    "else:\n",
    "    r = 0\n",
    "    g = 255\n",
    "    y = 0\n",
    "    print('temp', n_temp)\n",
    "    print(\"r\", r, 'g', g, 'y', y)"
   ]
  },
  {
   "cell_type": "code",
   "execution_count": null,
   "metadata": {},
   "outputs": [],
   "source": []
  }
 ],
 "metadata": {
  "kernelspec": {
   "display_name": "Python 3",
   "language": "python",
   "name": "python3"
  },
  "language_info": {
   "codemirror_mode": {
    "name": "ipython",
    "version": 3
   },
   "file_extension": ".py",
   "mimetype": "text/x-python",
   "name": "python",
   "nbconvert_exporter": "python",
   "pygments_lexer": "ipython3",
   "version": "3.6.4"
  }
 },
 "nbformat": 4,
 "nbformat_minor": 2
}
